{
 "cells": [
  {
   "cell_type": "code",
   "execution_count": 3,
   "metadata": {
    "tags": []
   },
   "outputs": [],
   "source": [
    "import torch\n",
    "from torch import nn\n",
    "from torch.utils.data import DataLoader\n",
    "from torchvision import datasets\n",
    "from torchvision.transforms import ToTensor\n",
    "\n",
    "%matplotlib inline\n",
    "\n",
    "import matplotlib.pyplot as plt\n",
    "import matplotlib.image as mpimg"
   ]
  },
  {
   "cell_type": "code",
   "execution_count": 148,
   "metadata": {},
   "outputs": [],
   "source": [
    "training_data = datasets.MNIST(\n",
    "    root=\"data\",\n",
    "    train=True,\n",
    "    download=True,\n",
    "    transform=ToTensor(),\n",
    ")\n",
    "# Download test data from open datasets.\n",
    "test_data = datasets.MNIST(\n",
    "    root=\"data\",\n",
    "    train=False,\n",
    "    download=True,\n",
    "    transform=ToTensor(),\n",
    ")"
   ]
  },
  {
   "cell_type": "code",
   "execution_count": 149,
   "metadata": {
    "tags": []
   },
   "outputs": [
    {
     "name": "stdout",
     "output_type": "stream",
     "text": [
      "training data length 60000\n",
      "testing data length 10000\n"
     ]
    }
   ],
   "source": [
    "print('training data length %s'% len(training_data))\n",
    "print('testing data length %s'%len(test_data))"
   ]
  },
  {
   "cell_type": "code",
   "execution_count": 150,
   "metadata": {},
   "outputs": [
    {
     "name": "stdout",
     "output_type": "stream",
     "text": [
      "Shape of X [N, C, H, W]: torch.Size([64, 1, 28, 28])\n",
      "Shape of y: torch.Size([64]) torch.int64\n"
     ]
    }
   ],
   "source": [
    "batch_size = 64\n",
    "\n",
    "# Create data loaders.\n",
    "train_loader = DataLoader(training_data, batch_size=batch_size)\n",
    "test_loader = DataLoader(test_data, batch_size=batch_size)\n",
    "\n",
    "for X, y in test_loader:\n",
    "    print(f\"Shape of X [N, C, H, W]: {X.shape}\")\n",
    "    print(f\"Shape of y: {y.shape} {y.dtype}\")\n",
    "    break"
   ]
  },
  {
   "cell_type": "code",
   "execution_count": 151,
   "metadata": {},
   "outputs": [
    {
     "data": {
      "image/png": "[encoded data removed]",
      "text/plain": [
       "<Figure size 720x288 with 10 Axes>"
      ]
     },
     "metadata": {
      "needs_background": "light"
     },
     "output_type": "display_data"
    }
   ],
   "source": [
    "import matplotlib.pyplot as plt\n",
    "\n",
    "fig, axs = plt.subplots(2, 5, figsize=(10, 4))\n",
    "for i in range(2):\n",
    "    for j in range(5):\n",
    "        idx = 2*i+j\n",
    "        axs[i][j].imshow(training_data[idx][0][0], cmap='gray', interpolation='none')\n",
    "        axs[i][j].set_title(\"Real: {}\".format(training_data[idx][1]))\n",
    "        axs[i][j].axis('off')"
   ]
  },
  {
   "cell_type": "code",
   "execution_count": 152,
   "metadata": {},
   "outputs": [],
   "source": [
    "import torch.nn.functional as F\n",
    "import torch.optim as optim\n",
    "\n",
    "class Net(nn.Module):\n",
    "    def __init__(self,num_classes):\n",
    "        super(Net, self).__init__()\n",
    "        self.num_classes = num_classes\n",
    "        self.conv1 = nn.Sequential(\n",
    "            nn.Conv2d(1, 16, kernel_size=3),\n",
    "            nn.ReLU(),\n",
    "            nn.MaxPool2d(2))\n",
    "        \n",
    "        self.conv2 = nn.Sequential(\n",
    "            nn.Conv2d(16, 32, kernel_size=3),\n",
    "            nn.ReLU(),\n",
    "            nn.MaxPool2d(2))\n",
    "        \n",
    "        self.classifiers = []\n",
    "        \n",
    "        for i in range(num_classes):\n",
    "            proj = nn.Sequential(\n",
    "                nn.Linear(32*6*6, 32),\n",
    "                nn.ReLU(),\n",
    "                nn.Linear(32, 1),\n",
    "                nn.Sigmoid())\n",
    "            self.classifiers.append(proj)\n",
    "\n",
    "    def forward(self, x):\n",
    "        x = self.conv1(x)\n",
    "        x = self.conv2(x)\n",
    "        x = x.view(-1, 32*6*6)\n",
    "        \n",
    "        out = []\n",
    "        for i in range(self.num_classes):\n",
    "            out.append(self.classifiers[i](x))\n",
    "        return out\n"
   ]
  },
  {
   "cell_type": "code",
   "execution_count": 153,
   "metadata": {},
   "outputs": [],
   "source": [
    "class ContrastiveLoss(nn.Module):\n",
    "    \n",
    "    def __init__(self, temperature=0.07, contrast_mode='all',base_temperature=0.07):\n",
    "        super(ContrastiveLoss, self).__init__()\n",
    "        self.temperature = temperature\n",
    "        self.contrast_mode = contrast_mode\n",
    "        self.base_temperature = base_temperature\n",
    "        \n",
    "    def forward(self, predictions, labels=None, mask=None):\n",
    "        device = (torch.device('cuda') if predictions.is_cuda else torch.device('cpu'))\n",
    "        \n",
    "        losses = []\n",
    "        for features in predictions:\n",
    "            batch_size = features.shape[0]\n",
    "            if labels is not None and mask is not None:\n",
    "                raise ValueError('Cannot define both `labels` and `mask`')\n",
    "            elif labels is None and mask is None:\n",
    "                mask = torch.eye(batch_size, dtype=torch.float32).to(device)\n",
    "            elif labels is not None:\n",
    "                labels = labels.contiguous().view(-1, 1)\n",
    "                if labels.shape[0] != batch_size:\n",
    "                    raise ValueError('Num of labels does not match num of features')\n",
    "                mask = torch.eq(labels, labels.T).float().to(device)\n",
    "            else:\n",
    "                mask = mask.float().to(device)\n",
    "\n",
    "            contrast_count = features.shape[1]\n",
    "            contrast_feature = torch.cat(torch.unbind(features, dim=1), dim=0)\n",
    "            if self.contrast_mode == 'one':\n",
    "                anchor_feature = features[:, 0]\n",
    "                anchor_count = 1\n",
    "            elif self.contrast_mode == 'all':\n",
    "                anchor_feature = contrast_feature\n",
    "                anchor_count = contrast_count\n",
    "            else:\n",
    "                raise ValueError('Unknown mode: {}'.format(self.contrast_mode))\n",
    "\n",
    "            # compute logits\n",
    "            anchor_dot_contrast = torch.div(\n",
    "                torch.matmul(anchor_feature, contrast_feature.T),\n",
    "                self.temperature)\n",
    "            # for numerical stability\n",
    "            logits_max, _ = torch.max(anchor_dot_contrast, dim=1, keepdim=True)\n",
    "            logits = anchor_dot_contrast - logits_max.detach()\n",
    "\n",
    "            # tile mask\n",
    "            mask = mask.repeat(anchor_count, contrast_count)\n",
    "            # mask-out self-contrast cases\n",
    "            logits_mask = torch.scatter(\n",
    "                torch.ones_like(mask),\n",
    "                1,\n",
    "                torch.arange(batch_size * anchor_count).view(-1, 1).to(device),\n",
    "                0\n",
    "            )\n",
    "            mask = mask * logits_mask\n",
    "\n",
    "            # compute log_prob\n",
    "            exp_logits = torch.exp(logits) * logits_mask\n",
    "            log_prob = logits - torch.log(exp_logits.sum(1, keepdim=True))\n",
    "\n",
    "            # compute mean of log-likelihood over positive\n",
    "            mean_log_prob_pos = (mask * log_prob).sum(1) / mask.sum(1)\n",
    "\n",
    "            # loss\n",
    "            loss = - (self.temperature / self.base_temperature) * mean_log_prob_pos\n",
    "            loss = loss.view(anchor_count, batch_size).mean()\n",
    "\n",
    "        return loss"
   ]
  },
  {
   "cell_type": "code",
   "execution_count": 154,
   "metadata": {},
   "outputs": [
    {
     "data": {
      "text/plain": [
       "tensor([[1., 1., 1., 1.],\n",
       "        [1., 1., 1., 1.],\n",
       "        [1., 1., 1., 1.],\n",
       "        [1., 1., 1., 1.]])"
      ]
     },
     "execution_count": 154,
     "metadata": {},
     "output_type": "execute_result"
    }
   ],
   "source": [
    "torch.ones_like(mask)"
   ]
  },
  {
   "cell_type": "code",
   "execution_count": 188,
   "metadata": {},
   "outputs": [
    {
     "name": "stdout",
     "output_type": "stream",
     "text": [
      "tensor([[0.4000, 0.6000],\n",
      "        [0.5000, 0.5000],\n",
      "        [0.7000, 0.3000],\n",
      "        [0.2000, 0.8000]])\n",
      "(tensor([0.4000, 0.5000, 0.7000, 0.2000]), tensor([0.6000, 0.5000, 0.3000, 0.8000]))\n",
      "tensor([0.4000, 0.5000, 0.7000, 0.2000, 0.6000, 0.5000, 0.3000, 0.8000])\n"
     ]
    }
   ],
   "source": [
    "features = torch.tensor([[0.4,0.6],[0.5,0.5],[0.7,0.3],[0.2,0.8]])\n",
    "print(features)\n",
    "print(torch.unbind(features, dim=1))\n",
    "contrast_feature = torch.cat(torch.unbind(features, dim=1), dim=0)\n",
    "print(contrast_feature)"
   ]
  },
  {
   "cell_type": "code",
   "execution_count": 194,
   "metadata": {},
   "outputs": [],
   "source": [
    "cos = nn.CosineSimilarity(dim=0, eps=1e-6)"
   ]
  },
  {
   "cell_type": "code",
   "execution_count": 195,
   "metadata": {},
   "outputs": [
    {
     "data": {
      "text/plain": [
       "torch.Size([4, 2])"
      ]
     },
     "execution_count": 195,
     "metadata": {},
     "output_type": "execute_result"
    }
   ],
   "source": [
    "features.shape"
   ]
  },
  {
   "cell_type": "code",
   "execution_count": 196,
   "metadata": {},
   "outputs": [
    {
     "data": {
      "text/plain": [
       "torch.Size([2, 4])"
      ]
     },
     "execution_count": 196,
     "metadata": {},
     "output_type": "execute_result"
    }
   ],
   "source": [
    "features.T.shape"
   ]
  },
  {
   "cell_type": "code",
   "execution_count": 197,
   "metadata": {},
   "outputs": [
    {
     "data": {
      "text/plain": [
       "tensor([1., 1.])"
      ]
     },
     "execution_count": 197,
     "metadata": {},
     "output_type": "execute_result"
    }
   ],
   "source": [
    "cos(features, features)"
   ]
  },
  {
   "cell_type": "code",
   "execution_count": 156,
   "metadata": {},
   "outputs": [
    {
     "name": "stdout",
     "output_type": "stream",
     "text": [
      "tensor([[0.4000, 0.6000],\n",
      "        [0.5000, 0.5000],\n",
      "        [0.7000, 0.3000],\n",
      "        [0.2000, 0.8000]])\n",
      "tensor([[[0.4000, 0.6000],\n",
      "         [0.7000, 0.3000]],\n",
      "\n",
      "        [[0.5000, 0.5000],\n",
      "         [0.2000, 0.8000]]])\n"
     ]
    }
   ],
   "source": [
    "print(features)\n",
    "f1,f2=torch.split(features, [2,2], dim=0)\n",
    "features = torch.cat([f1.unsqueeze(1), f2.unsqueeze(1)], dim=1)\n",
    "print(features)"
   ]
  },
  {
   "cell_type": "code",
   "execution_count": 157,
   "metadata": {},
   "outputs": [
    {
     "name": "stdout",
     "output_type": "stream",
     "text": [
      "(tensor([[0.4000, 0.6000],\n",
      "        [0.5000, 0.5000]]), tensor([[0.7000, 0.3000],\n",
      "        [0.2000, 0.8000]]))\n",
      "tensor([[0.4000, 0.6000],\n",
      "        [0.5000, 0.5000],\n",
      "        [0.7000, 0.3000],\n",
      "        [0.2000, 0.8000]])\n"
     ]
    }
   ],
   "source": [
    "print(torch.unbind(features, dim=1))\n",
    "contrast_feature = torch.cat(torch.unbind(features, dim=1), dim=0)\n",
    "print(contrast_feature)"
   ]
  },
  {
   "cell_type": "code",
   "execution_count": 158,
   "metadata": {},
   "outputs": [],
   "source": [
    "anchor_feature = contrast_feature\n",
    "contrast_count = 2\n",
    "anchor_count = 2"
   ]
  },
  {
   "cell_type": "code",
   "execution_count": 159,
   "metadata": {},
   "outputs": [
    {
     "name": "stdout",
     "output_type": "stream",
     "text": [
      "tensor([[0.7429, 0.7143, 0.6571, 0.8000],\n",
      "        [0.7143, 0.7143, 0.7143, 0.7143],\n",
      "        [0.6571, 0.7143, 0.8286, 0.5429],\n",
      "        [0.8000, 0.7143, 0.5429, 0.9714]])\n"
     ]
    }
   ],
   "source": [
    "anchor_dot_contrast = torch.div(torch.matmul(anchor_feature, contrast_feature.T),0.7)\n",
    "print(anchor_dot_contrast)"
   ]
  },
  {
   "cell_type": "code",
   "execution_count": 160,
   "metadata": {},
   "outputs": [
    {
     "name": "stdout",
     "output_type": "stream",
     "text": [
      "tensor([[0.8000],\n",
      "        [0.7143],\n",
      "        [0.8286],\n",
      "        [0.9714]])\n"
     ]
    }
   ],
   "source": [
    "logits_max, _ = torch.max(anchor_dot_contrast, dim=1, keepdim=True)\n",
    "print(logits_max.detach())"
   ]
  },
  {
   "cell_type": "code",
   "execution_count": 161,
   "metadata": {},
   "outputs": [
    {
     "name": "stdout",
     "output_type": "stream",
     "text": [
      "tensor([[-0.0571, -0.0857, -0.1429,  0.0000],\n",
      "        [ 0.0000,  0.0000,  0.0000,  0.0000],\n",
      "        [-0.1714, -0.1143,  0.0000, -0.2857],\n",
      "        [-0.1714, -0.2571, -0.4286,  0.0000]])\n"
     ]
    }
   ],
   "source": [
    "logits = anchor_dot_contrast - logits_max.detach()\n",
    "print(logits)"
   ]
  },
  {
   "cell_type": "code",
   "execution_count": 162,
   "metadata": {},
   "outputs": [
    {
     "name": "stdout",
     "output_type": "stream",
     "text": [
      "tensor([[1.],\n",
      "        [2.]])\n",
      "tensor([[1., 0.],\n",
      "        [0., 1.]])\n",
      "tensor([[1., 0., 1., 0.],\n",
      "        [0., 1., 0., 1.],\n",
      "        [1., 0., 1., 0.],\n",
      "        [0., 1., 0., 1.]])\n"
     ]
    }
   ],
   "source": [
    "labels = torch.tensor([[1.,2.]])\n",
    "labels = labels.contiguous().view(-1, 1)\n",
    "print(labels)\n",
    "mask = torch.eq(labels, labels.T).float()\n",
    "print(mask)\n",
    "mask = mask.repeat(anchor_count, contrast_count)\n",
    "print(mask)"
   ]
  },
  {
   "cell_type": "code",
   "execution_count": 163,
   "metadata": {},
   "outputs": [
    {
     "data": {
      "text/plain": [
       "tensor([-0.2857,  0.0000, -0.5714, -0.8571])"
      ]
     },
     "execution_count": 163,
     "metadata": {},
     "output_type": "execute_result"
    }
   ],
   "source": [
    "logits.sum(1)"
   ]
  },
  {
   "cell_type": "code",
   "execution_count": 164,
   "metadata": {},
   "outputs": [
    {
     "name": "stdout",
     "output_type": "stream",
     "text": [
      "tensor([[0., 1., 1., 1.],\n",
      "        [1., 0., 1., 1.],\n",
      "        [1., 1., 0., 1.],\n",
      "        [1., 1., 1., 0.]])\n"
     ]
    }
   ],
   "source": [
    "logits_mask = torch.scatter(\n",
    "            torch.ones_like(mask),\n",
    "            1,\n",
    "            torch.arange(2 * 2).view(-1, 1).to('cpu'),\n",
    "            0\n",
    "        )\n",
    "print(logits_mask)"
   ]
  },
  {
   "cell_type": "code",
   "execution_count": 165,
   "metadata": {},
   "outputs": [],
   "source": [
    "mask = mask * logits_mask"
   ]
  },
  {
   "cell_type": "code",
   "execution_count": 166,
   "metadata": {},
   "outputs": [
    {
     "name": "stdout",
     "output_type": "stream",
     "text": [
      "tensor([[0., 0., 1., 0.],\n",
      "        [0., 0., 0., 1.],\n",
      "        [1., 0., 0., 0.],\n",
      "        [0., 1., 0., 0.]])\n"
     ]
    }
   ],
   "source": [
    "print(mask)"
   ]
  },
  {
   "cell_type": "code",
   "execution_count": 167,
   "metadata": {},
   "outputs": [
    {
     "name": "stdout",
     "output_type": "stream",
     "text": [
      "tensor([[0.0000, 0.9179, 0.8669, 1.0000],\n",
      "        [1.0000, 0.0000, 1.0000, 1.0000],\n",
      "        [0.8425, 0.8920, 0.0000, 0.7515],\n",
      "        [0.8425, 0.7733, 0.6514, 0.0000]])\n",
      "tensor([[2.7847],\n",
      "        [3.0000],\n",
      "        [2.4859],\n",
      "        [2.2672]])\n",
      "tensor([[-1.0813, -1.1099, -1.1670, -1.0242],\n",
      "        [-1.0986, -1.0986, -1.0986, -1.0986],\n",
      "        [-1.0821, -1.0249, -0.9107, -1.1964],\n",
      "        [-0.9900, -1.0757, -1.2471, -0.8185]])\n"
     ]
    }
   ],
   "source": [
    "exp_logits = torch.exp(logits) * logits_mask\n",
    "print(exp_logits)\n",
    "print(exp_logits.sum(1, keepdim=True))\n",
    "log_prob = logits - torch.log(exp_logits.sum(1, keepdim=True))\n",
    "print(log_prob)"
   ]
  },
  {
   "cell_type": "code",
   "execution_count": 168,
   "metadata": {},
   "outputs": [
    {
     "name": "stdout",
     "output_type": "stream",
     "text": [
      "tensor([-1.1670, -1.0986, -1.0821, -1.0757])\n"
     ]
    }
   ],
   "source": [
    "mean_log_prob_pos = (mask * log_prob).sum(1) / mask.sum(1)\n",
    "print(mean_log_prob_pos)"
   ]
  },
  {
   "cell_type": "code",
   "execution_count": 169,
   "metadata": {},
   "outputs": [
    {
     "name": "stdout",
     "output_type": "stream",
     "text": [
      "tensor([2.7230, 2.5634, 2.5249, 2.5099])\n"
     ]
    }
   ],
   "source": [
    "loss = - (0.7 / 0.3) * mean_log_prob_pos\n",
    "print(loss)"
   ]
  },
  {
   "cell_type": "code",
   "execution_count": 170,
   "metadata": {},
   "outputs": [
    {
     "name": "stdout",
     "output_type": "stream",
     "text": [
      "tensor(2.5803)\n"
     ]
    }
   ],
   "source": [
    "print(loss.mean())"
   ]
  },
  {
   "cell_type": "code",
   "execution_count": 171,
   "metadata": {},
   "outputs": [
    {
     "name": "stdout",
     "output_type": "stream",
     "text": [
      "tensor([[2.7230, 2.5634],\n",
      "        [2.5249, 2.5099]])\n",
      "tensor(2.5803)\n"
     ]
    }
   ],
   "source": [
    "print(loss.view(2, 2))\n",
    "loss = loss.view(2, 2).mean()\n",
    "print(loss)"
   ]
  },
  {
   "cell_type": "code",
   "execution_count": 172,
   "metadata": {},
   "outputs": [
    {
     "ename": "TypeError",
     "evalue": "__init__() missing 1 required positional argument: 'num_classes'",
     "output_type": "error",
     "traceback": [
      "\u001b[0;31m---------------------------------------------------------------------------\u001b[0m",
      "\u001b[0;31mTypeError\u001b[0m                                 Traceback (most recent call last)",
      "Input \u001b[0;32mIn [172]\u001b[0m, in \u001b[0;36m<cell line: 6>\u001b[0;34m()\u001b[0m\n\u001b[1;32m      3\u001b[0m log_interval \u001b[38;5;241m=\u001b[39m \u001b[38;5;241m50\u001b[39m\n\u001b[1;32m      4\u001b[0m n_epochs \u001b[38;5;241m=\u001b[39m \u001b[38;5;241m3\u001b[39m\n\u001b[0;32m----> 6\u001b[0m network \u001b[38;5;241m=\u001b[39m \u001b[43mNet\u001b[49m\u001b[43m(\u001b[49m\u001b[43m)\u001b[49m\n\u001b[1;32m      7\u001b[0m optimizer \u001b[38;5;241m=\u001b[39m optim\u001b[38;5;241m.\u001b[39mSGD(network\u001b[38;5;241m.\u001b[39mparameters(), lr\u001b[38;5;241m=\u001b[39mlearning_rate, momentum\u001b[38;5;241m=\u001b[39mmomentum)\n",
      "\u001b[0;31mTypeError\u001b[0m: __init__() missing 1 required positional argument: 'num_classes'"
     ]
    }
   ],
   "source": [
    "learning_rate = 0.01\n",
    "momentum = 0.5\n",
    "log_interval = 50\n",
    "n_epochs = 3\n",
    "\n",
    "network = Net()\n",
    "optimizer = optim.SGD(network.parameters(), lr=learning_rate, momentum=momentum)"
   ]
  },
  {
   "cell_type": "code",
   "execution_count": null,
   "metadata": {},
   "outputs": [],
   "source": [
    "train_losses = []\n",
    "train_counter = []\n",
    "test_losses = []\n",
    "test_counter = [i*len(train_loader.dataset) for i in range(n_epochs + 1)]"
   ]
  },
  {
   "cell_type": "code",
   "execution_count": null,
   "metadata": {},
   "outputs": [],
   "source": [
    "def train(epoch):\n",
    "    network.train()\n",
    "    for batch_idx, (data, target) in enumerate(train_loader):\n",
    "        optimizer.zero_grad()\n",
    "        output = network(data)\n",
    "        loss = F.nll_loss(output, target)\n",
    "        loss.backward()\n",
    "        optimizer.step()\n",
    "        if batch_idx % log_interval == 0:\n",
    "            print('Train Epoch: {} [{}/{} ({:.0f}%)]\\tLoss: {:.6f}'.format(\n",
    "                epoch, batch_idx * len(data), len(train_loader.dataset),\n",
    "                    100. * batch_idx / len(train_loader), loss.item()))\n",
    "            train_losses.append(loss.item())\n",
    "            train_counter.append((batch_idx*64) + ((epoch-1)*len(train_loader.dataset)))\n",
    "            torch.save(network.state_dict(), 'results/model.pth')\n",
    "            torch.save(optimizer.state_dict(), 'results/optimizer.pth')"
   ]
  },
  {
   "cell_type": "code",
   "execution_count": null,
   "metadata": {},
   "outputs": [],
   "source": [
    "def test():\n",
    "    network.eval()\n",
    "    test_loss = 0\n",
    "    correct = 0\n",
    "    with torch.no_grad():\n",
    "        for data, target in test_loader:\n",
    "            output = network(data)\n",
    "            test_loss += F.nll_loss(output, target, size_average=False).item()\n",
    "            pred = output.data.max(1, keepdim=True)[1]\n",
    "            correct += pred.eq(target.data.view_as(pred)).sum()\n",
    "    test_loss /= len(test_loader.dataset)\n",
    "    test_losses.append(test_loss)\n",
    "    print('\\nTest set: Avg. loss: {:.4f}, Accuracy: {}/{} ({:.0f}%)\\n'.format(test_loss, correct, len(test_loader.dataset),\n",
    "    100. * correct / len(test_loader.dataset)))"
   ]
  },
  {
   "cell_type": "code",
   "execution_count": null,
   "metadata": {
    "tags": []
   },
   "outputs": [],
   "source": [
    "for epoch in range(1, n_epochs + 1):\n",
    "    train(epoch)\n",
    "    test()"
   ]
  },
  {
   "cell_type": "code",
   "execution_count": 177,
   "metadata": {},
   "outputs": [
    {
     "name": "stdout",
     "output_type": "stream",
     "text": [
      "tensor([5, 0, 4, 1, 9, 2, 1, 3, 1, 4, 3, 5, 3, 6, 1, 7, 2, 8, 6, 9, 4, 0, 9, 1,\n",
      "        1, 2, 4, 3, 2, 7, 3, 8, 6, 9, 0, 5, 6, 0, 7, 6, 1, 8, 7, 9, 3, 9, 8, 5,\n",
      "        9, 3, 3, 0, 7, 4, 9, 8, 0, 9, 4, 1, 4, 4, 6, 0])\n"
     ]
    }
   ],
   "source": [
    "for batch_idx, (data, target) in enumerate(train_loader):\n",
    "    print(target)\n",
    "    break"
   ]
  },
  {
   "cell_type": "code",
   "execution_count": null,
   "metadata": {
    "tags": []
   },
   "outputs": [],
   "source": [
    "fig = plt.figure()\n",
    "plt.plot(train_counter, train_losses, color='blue')\n",
    "plt.scatter(test_counter, test_losses, color='red')\n",
    "plt.legend(['Train Loss', 'Test Loss'], loc='upper right')\n",
    "plt.xlabel('number of training examples seen')\n",
    "plt.ylabel('negative log likelihood loss')"
   ]
  },
  {
   "cell_type": "code",
   "execution_count": 173,
   "metadata": {},
   "outputs": [],
   "source": [
    "class TwoCropTransform:\n",
    "    \"\"\"Create two crops of the same image\"\"\"\n",
    "    def __init__(self, transform):\n",
    "        self.transform = transform\n",
    "\n",
    "    def __call__(self, x):\n",
    "        return [self.transform(x), self.transform(x)]"
   ]
  },
  {
   "cell_type": "code",
   "execution_count": 174,
   "metadata": {},
   "outputs": [],
   "source": [
    "from torchvision import transforms, datasets\n",
    "\n",
    "train_transform = transforms.Compose([\n",
    "    transforms.RandomResizedCrop(size=128, scale=(0.2, 1.)),\n",
    "    transforms.RandomHorizontalFlip(),\n",
    "    transforms.RandomApply([\n",
    "        transforms.ColorJitter(0.4, 0.4, 0.4, 0.1)\n",
    "    ], p=0.8),\n",
    "    transforms.RandomGrayscale(p=0.2),\n",
    "    transforms.ToTensor()\n",
    "])\n",
    "\n",
    "\n",
    "train_dataset = datasets.MNIST(root=\"data\",transform=TwoCropTransform(train_transform),download=True)\n"
   ]
  },
  {
   "cell_type": "code",
   "execution_count": 175,
   "metadata": {},
   "outputs": [
    {
     "data": {
      "text/plain": [
       "([tensor([[[0., 0., 0.,  ..., 0., 0., 0.],\n",
       "           [0., 0., 0.,  ..., 0., 0., 0.],\n",
       "           [0., 0., 0.,  ..., 0., 0., 0.],\n",
       "           ...,\n",
       "           [0., 0., 0.,  ..., 0., 0., 0.],\n",
       "           [0., 0., 0.,  ..., 0., 0., 0.],\n",
       "           [0., 0., 0.,  ..., 0., 0., 0.]]]),\n",
       "  tensor([[[0.0196, 0.0196, 0.0196,  ..., 0.0196, 0.0196, 0.0196],\n",
       "           [0.0196, 0.0196, 0.0196,  ..., 0.0196, 0.0196, 0.0196],\n",
       "           [0.0196, 0.0196, 0.0196,  ..., 0.0196, 0.0196, 0.0196],\n",
       "           ...,\n",
       "           [0.0196, 0.0196, 0.0196,  ..., 0.0196, 0.0196, 0.0196],\n",
       "           [0.0196, 0.0196, 0.0196,  ..., 0.0196, 0.0196, 0.0196],\n",
       "           [0.0196, 0.0196, 0.0196,  ..., 0.0196, 0.0196, 0.0196]]])],\n",
       " 5)"
      ]
     },
     "execution_count": 175,
     "metadata": {},
     "output_type": "execute_result"
    }
   ],
   "source": [
    "train_dataset[0]"
   ]
  },
  {
   "cell_type": "code",
   "execution_count": 61,
   "metadata": {},
   "outputs": [
    {
     "data": {
      "text/plain": [
       "<matplotlib.image.AxesImage at 0x7fd1621a4f40>"
      ]
     },
     "execution_count": 61,
     "metadata": {},
     "output_type": "execute_result"
    },
    {
     "data": {
      "image/png": "[encoded data removed]",
      "text/plain": [
       "<Figure size 432x288 with 1 Axes>"
      ]
     },
     "metadata": {
      "needs_background": "light"
     },
     "output_type": "display_data"
    }
   ],
   "source": [
    "plt.imshow(train_dataset[0][0][0][0], cmap='gray', interpolation='none')"
   ]
  },
  {
   "cell_type": "code",
   "execution_count": 62,
   "metadata": {},
   "outputs": [
    {
     "data": {
      "text/plain": [
       "<matplotlib.image.AxesImage at 0x7fd1620e14f0>"
      ]
     },
     "execution_count": 62,
     "metadata": {},
     "output_type": "execute_result"
    },
    {
     "data": {
      "image/png": "[encoded data removed]",
      "text/plain": [
       "<Figure size 432x288 with 1 Axes>"
      ]
     },
     "metadata": {
      "needs_background": "light"
     },
     "output_type": "display_data"
    }
   ],
   "source": [
    "train_dataset[0][0][1][0]\n",
    "# print(train_dataset[0][0][0][0].shape)\n",
    "plt.imshow(train_dataset[0][0][1][0], cmap='gray', interpolation='none')"
   ]
  },
  {
   "cell_type": "code",
   "execution_count": 64,
   "metadata": {},
   "outputs": [],
   "source": [
    "train_loader = DataLoader(train_dataset, batch_size=batch_size)"
   ]
  },
  {
   "cell_type": "code",
   "execution_count": 66,
   "metadata": {},
   "outputs": [
    {
     "name": "stdout",
     "output_type": "stream",
     "text": [
      "torch.Size([64, 1, 128, 128])\n",
      "tensor([[[[0.0157, 0.0157, 0.0157,  ..., 0.0157, 0.0157, 0.0157],\n",
      "          [0.0157, 0.0157, 0.0157,  ..., 0.0157, 0.0157, 0.0157],\n",
      "          [0.0157, 0.0157, 0.0157,  ..., 0.0157, 0.0157, 0.0157],\n",
      "          ...,\n",
      "          [0.0157, 0.0157, 0.0157,  ..., 0.0157, 0.0157, 0.0157],\n",
      "          [0.0157, 0.0157, 0.0157,  ..., 0.0157, 0.0157, 0.0157],\n",
      "          [0.0157, 0.0157, 0.0157,  ..., 0.0157, 0.0157, 0.0157]]],\n",
      "\n",
      "\n",
      "        [[[0.0000, 0.0000, 0.0000,  ..., 0.0000, 0.0000, 0.0000],\n",
      "          [0.0000, 0.0000, 0.0000,  ..., 0.0000, 0.0000, 0.0000],\n",
      "          [0.0000, 0.0000, 0.0000,  ..., 0.0000, 0.0000, 0.0000],\n",
      "          ...,\n",
      "          [0.0000, 0.0000, 0.0000,  ..., 0.0000, 0.0000, 0.0000],\n",
      "          [0.0000, 0.0000, 0.0000,  ..., 0.0000, 0.0000, 0.0000],\n",
      "          [0.0000, 0.0000, 0.0000,  ..., 0.0000, 0.0000, 0.0000]]],\n",
      "\n",
      "\n",
      "        [[[0.0000, 0.0000, 0.0000,  ..., 0.0000, 0.0000, 0.0000],\n",
      "          [0.0000, 0.0000, 0.0000,  ..., 0.0000, 0.0000, 0.0000],\n",
      "          [0.0000, 0.0000, 0.0000,  ..., 0.0000, 0.0000, 0.0000],\n",
      "          ...,\n",
      "          [0.0000, 0.0000, 0.0000,  ..., 0.0000, 0.0000, 0.0000],\n",
      "          [0.0000, 0.0000, 0.0000,  ..., 0.0000, 0.0000, 0.0000],\n",
      "          [0.0000, 0.0000, 0.0000,  ..., 0.0000, 0.0000, 0.0000]]],\n",
      "\n",
      "\n",
      "        ...,\n",
      "\n",
      "\n",
      "        [[[0.0196, 0.0196, 0.0196,  ..., 0.0196, 0.0196, 0.0196],\n",
      "          [0.0196, 0.0196, 0.0196,  ..., 0.0196, 0.0196, 0.0196],\n",
      "          [0.0196, 0.0196, 0.0196,  ..., 0.0196, 0.0196, 0.0196],\n",
      "          ...,\n",
      "          [0.0196, 0.0196, 0.0196,  ..., 0.0196, 0.0196, 0.0196],\n",
      "          [0.0196, 0.0196, 0.0196,  ..., 0.0196, 0.0196, 0.0196],\n",
      "          [0.0196, 0.0196, 0.0196,  ..., 0.0196, 0.0196, 0.0196]]],\n",
      "\n",
      "\n",
      "        [[[0.0431, 0.0431, 0.0431,  ..., 0.0431, 0.0431, 0.0431],\n",
      "          [0.0431, 0.0431, 0.0431,  ..., 0.0431, 0.0431, 0.0431],\n",
      "          [0.0431, 0.0431, 0.0431,  ..., 0.0431, 0.0431, 0.0431],\n",
      "          ...,\n",
      "          [0.0431, 0.0431, 0.0431,  ..., 0.0431, 0.0431, 0.0431],\n",
      "          [0.0431, 0.0431, 0.0431,  ..., 0.0431, 0.0431, 0.0431],\n",
      "          [0.0431, 0.0431, 0.0431,  ..., 0.0431, 0.0431, 0.0431]]],\n",
      "\n",
      "\n",
      "        [[[0.0000, 0.0000, 0.0000,  ..., 0.0000, 0.0000, 0.0000],\n",
      "          [0.0000, 0.0000, 0.0000,  ..., 0.0000, 0.0000, 0.0000],\n",
      "          [0.0000, 0.0000, 0.0000,  ..., 0.0000, 0.0000, 0.0000],\n",
      "          ...,\n",
      "          [0.0000, 0.0000, 0.0000,  ..., 0.0000, 0.0000, 0.0000],\n",
      "          [0.0000, 0.0000, 0.0000,  ..., 0.0000, 0.0000, 0.0000],\n",
      "          [0.0000, 0.0000, 0.0000,  ..., 0.0000, 0.0000, 0.0000]]]])\n",
      "torch.Size([128, 1, 128, 128])\n",
      "tensor([[[[0.0157, 0.0157, 0.0157,  ..., 0.0157, 0.0157, 0.0157],\n",
      "          [0.0157, 0.0157, 0.0157,  ..., 0.0157, 0.0157, 0.0157],\n",
      "          [0.0157, 0.0157, 0.0157,  ..., 0.0157, 0.0157, 0.0157],\n",
      "          ...,\n",
      "          [0.0157, 0.0157, 0.0157,  ..., 0.0157, 0.0157, 0.0157],\n",
      "          [0.0157, 0.0157, 0.0157,  ..., 0.0157, 0.0157, 0.0157],\n",
      "          [0.0157, 0.0157, 0.0157,  ..., 0.0157, 0.0157, 0.0157]]],\n",
      "\n",
      "\n",
      "        [[[0.0000, 0.0000, 0.0000,  ..., 0.0000, 0.0000, 0.0000],\n",
      "          [0.0000, 0.0000, 0.0000,  ..., 0.0000, 0.0000, 0.0000],\n",
      "          [0.0000, 0.0000, 0.0000,  ..., 0.0000, 0.0000, 0.0000],\n",
      "          ...,\n",
      "          [0.0000, 0.0000, 0.0000,  ..., 0.0000, 0.0000, 0.0000],\n",
      "          [0.0000, 0.0000, 0.0000,  ..., 0.0000, 0.0000, 0.0000],\n",
      "          [0.0000, 0.0000, 0.0000,  ..., 0.0000, 0.0000, 0.0000]]],\n",
      "\n",
      "\n",
      "        [[[0.0000, 0.0000, 0.0000,  ..., 0.0000, 0.0000, 0.0000],\n",
      "          [0.0000, 0.0000, 0.0000,  ..., 0.0000, 0.0000, 0.0000],\n",
      "          [0.0000, 0.0000, 0.0000,  ..., 0.0000, 0.0000, 0.0000],\n",
      "          ...,\n",
      "          [0.0000, 0.0000, 0.0000,  ..., 0.0000, 0.0000, 0.0000],\n",
      "          [0.0000, 0.0000, 0.0000,  ..., 0.0000, 0.0000, 0.0000],\n",
      "          [0.0000, 0.0000, 0.0000,  ..., 0.0000, 0.0000, 0.0000]]],\n",
      "\n",
      "\n",
      "        ...,\n",
      "\n",
      "\n",
      "        [[[0.0196, 0.0196, 0.0196,  ..., 0.0196, 0.0196, 0.0196],\n",
      "          [0.0196, 0.0196, 0.0196,  ..., 0.0196, 0.0196, 0.0196],\n",
      "          [0.0196, 0.0196, 0.0196,  ..., 0.0196, 0.0196, 0.0196],\n",
      "          ...,\n",
      "          [0.0196, 0.0196, 0.0196,  ..., 0.5569, 0.5569, 0.5569],\n",
      "          [0.0196, 0.0196, 0.0196,  ..., 0.5569, 0.5569, 0.5569],\n",
      "          [0.0196, 0.0196, 0.0196,  ..., 0.5569, 0.5569, 0.5569]]],\n",
      "\n",
      "\n",
      "        [[[0.0000, 0.0000, 0.0000,  ..., 0.0000, 0.0000, 0.0000],\n",
      "          [0.0000, 0.0000, 0.0000,  ..., 0.0000, 0.0000, 0.0000],\n",
      "          [0.0000, 0.0000, 0.0000,  ..., 0.0000, 0.0000, 0.0000],\n",
      "          ...,\n",
      "          [0.0000, 0.0000, 0.0000,  ..., 0.0000, 0.0000, 0.0000],\n",
      "          [0.0000, 0.0000, 0.0000,  ..., 0.0000, 0.0000, 0.0000],\n",
      "          [0.0000, 0.0000, 0.0000,  ..., 0.0000, 0.0000, 0.0000]]],\n",
      "\n",
      "\n",
      "        [[[0.0000, 0.0000, 0.0000,  ..., 0.0000, 0.0000, 0.0000],\n",
      "          [0.0000, 0.0000, 0.0000,  ..., 0.0000, 0.0000, 0.0000],\n",
      "          [0.0000, 0.0000, 0.0000,  ..., 0.0000, 0.0000, 0.0000],\n",
      "          ...,\n",
      "          [0.0000, 0.0000, 0.0000,  ..., 0.0000, 0.0000, 0.0000],\n",
      "          [0.0000, 0.0000, 0.0000,  ..., 0.0000, 0.0000, 0.0000],\n",
      "          [0.0000, 0.0000, 0.0000,  ..., 0.0000, 0.0000, 0.0000]]]])\n"
     ]
    }
   ],
   "source": [
    "for idx, (images, labels) in enumerate(train_loader):\n",
    "    print(images[0].shape)\n",
    "    print(images[0])\n",
    "    images = torch.cat([images[0], images[1]], dim=0)\n",
    "    print(images.shape)\n",
    "    print(images)\n",
    "    break"
   ]
  },
  {
   "cell_type": "code",
   "execution_count": null,
   "metadata": {},
   "outputs": [],
   "source": []
  },
  {
   "cell_type": "code",
   "execution_count": 198,
   "metadata": {},
   "outputs": [
    {
     "data": {
      "text/plain": [
       "tensor([ 0.3697, -0.9209, -0.0408, -0.7380])"
      ]
     },
     "execution_count": 198,
     "metadata": {},
     "output_type": "execute_result"
    }
   ],
   "source": [
    "tensor1 = torch.randn(3,4)\n",
    "tensor2 = torch.randn(3,4)\n",
    "cos = torch.nn.CosineSimilarity(dim=0)\n",
    "cos(tensor1, tensor2)"
   ]
  },
  {
   "cell_type": "code",
   "execution_count": 204,
   "metadata": {},
   "outputs": [
    {
     "name": "stdout",
     "output_type": "stream",
     "text": [
      "tensor([[ 1.,  2.,  3.],\n",
      "        [-1.,  1.,  4.]])\n",
      "tensor([[3.7417],\n",
      "        [4.2426]])\n"
     ]
    }
   ],
   "source": [
    "c = torch.tensor([[ 1, 2, 3],[-1, 1, 4]] , dtype= torch.float)\n",
    "print(c)\n",
    "z = torch.norm(c, dim=1,keepdim=True)\n",
    "print(z)"
   ]
  },
  {
   "cell_type": "code",
   "execution_count": 203,
   "metadata": {},
   "outputs": [
    {
     "data": {
      "text/plain": [
       "tensor([[14.0000, 15.8745],\n",
       "        [15.8745, 18.0000]])"
      ]
     },
     "execution_count": 203,
     "metadata": {},
     "output_type": "execute_result"
    }
   ],
   "source": [
    "torch.matmul(z, z.T)"
   ]
  },
  {
   "cell_type": "code",
   "execution_count": 5,
   "metadata": {},
   "outputs": [
    {
     "data": {
      "text/plain": [
       "tensor([[1., 1., 1., 1., 1.],\n",
       "        [1., 1., 1., 1., 1.],\n",
       "        [1., 1., 1., 1., 1.],\n",
       "        [1., 1., 1., 1., 1.],\n",
       "        [1., 1., 1., 1., 1.]])"
      ]
     },
     "execution_count": 5,
     "metadata": {},
     "output_type": "execute_result"
    }
   ],
   "source": [
    "a = torch.ones_like(torch.rand(5,5))\n",
    "a.scatter_(1, targets.unsqueeze(-1), 1)"
   ]
  },
  {
   "cell_type": "code",
   "execution_count": 20,
   "metadata": {},
   "outputs": [
    {
     "data": {
      "text/plain": [
       "tensor([[1., 0., 1., 0., 0.],\n",
       "        [0., 0., 0., 0., 0.],\n",
       "        [1., 0., 1., 0., 0.],\n",
       "        [0., 0., 0., 0., 0.],\n",
       "        [0., 0., 0., 0., 0.]])"
      ]
     },
     "execution_count": 20,
     "metadata": {},
     "output_type": "execute_result"
    }
   ],
   "source": [
    "labels = torch.tensor([1,0,1,0,0])\n",
    "labels = labels.view(-1, 1)\n",
    "torch.logical_and(labels, labels.T).float()"
   ]
  },
  {
   "cell_type": "code",
   "execution_count": 22,
   "metadata": {},
   "outputs": [
    {
     "data": {
      "text/plain": [
       "tensor([[0],\n",
       "        [2]])"
      ]
     },
     "execution_count": 22,
     "metadata": {},
     "output_type": "execute_result"
    }
   ],
   "source": [
    "labels = torch.tensor([1,0,1,0,0])\n",
    "labels.nonzero().detach()\n",
    "# labels[labels.nonzero().detach()]"
   ]
  },
  {
   "cell_type": "code",
   "execution_count": 24,
   "metadata": {},
   "outputs": [
    {
     "data": {
      "text/plain": [
       "(tensor([0, 1]), tensor([3, 2]))"
      ]
     },
     "execution_count": 24,
     "metadata": {},
     "output_type": "execute_result"
    }
   ],
   "source": [
    "torch.unique(labels,return_counts=True)"
   ]
  },
  {
   "cell_type": "code",
   "execution_count": 151,
   "metadata": {},
   "outputs": [
    {
     "name": "stdout",
     "output_type": "stream",
     "text": [
      "8\n",
      "32\n",
      "[  9  10  13  20  27  33  34  52  55  62  83 101 109 111 117 119 135 137\n",
      " 140 154 156 157 158 160 163 181 182 189 200 216 235 243 252 244  35  61\n",
      "  66  43 171 116  18 232   2 130 227  51 180   7  30 245 253  94 151 255\n",
      " 166 147 221 239  75 122  39]\n",
      "61\n"
     ]
    }
   ],
   "source": [
    "target = torch.randint(10, (256, ))\n",
    "anchor = 0\n",
    "labels = target.numpy()\n",
    "# print(labels)\n",
    "num_classes = 10\n",
    "batch_size = 256\n",
    "\n",
    "idx = np.where(labels == anchor)[0]\n",
    "each_class = batch_size/num_classes\n",
    "each_sub_div = each_class//(each_class/(num_classes-1))\n",
    "each_sub_div = int(each_sub_div - 1)\n",
    "\n",
    "print(each_sub_div)\n",
    "\n",
    "print(len(idx))\n",
    "for i in range(10):\n",
    "    if i == anchor:\n",
    "        continue\n",
    "    sub_idx = np.where(labels == i)[0]\n",
    "    np.random.shuffle(sub_idx)\n",
    "    \n",
    "    if len(sub_idx) > each_sub_div:\n",
    "        sub_idx = sub_idx[:round(len(sub_idx)/each_sub_div)]\n",
    "    idx = np.concatenate((idx, sub_idx), axis=0)\n",
    "print(idx)\n",
    "print(len(idx))\n",
    "#     np.random.shuffle(arr)\n",
    "# idx = ((labels == 1).nonzero(as_tuple=True)[0])"
   ]
  },
  {
   "cell_type": "code",
   "execution_count": 152,
   "metadata": {},
   "outputs": [
    {
     "data": {
      "text/plain": [
       "tensor([0, 0, 0, 0, 0, 0, 0, 0, 0, 0, 0, 0, 0, 0, 0, 0, 0, 0, 0, 0, 0, 0, 0, 0,\n",
       "        0, 0, 0, 0, 0, 0, 0, 0, 1, 1, 1, 2, 2, 2, 2, 3, 3, 3, 3, 4, 4, 4, 5, 5,\n",
       "        5, 6, 6, 6, 7, 7, 7, 8, 8, 8, 9, 9, 9])"
      ]
     },
     "execution_count": 152,
     "metadata": {},
     "output_type": "execute_result"
    }
   ],
   "source": [
    "target[idx]"
   ]
  },
  {
   "cell_type": "code",
   "execution_count": 141,
   "metadata": {},
   "outputs": [
    {
     "name": "stdout",
     "output_type": "stream",
     "text": [
      "[7 6 0 6 3 9 5 2 2 9 5 4 7 0 7 0 4 8 6 9 2 5 5 2 7 4 9 0 1 7 3 5 9 1 8 3 6\n",
      " 3 4 2 0 6 4 5 0 3 5 7 1 4 1 2 5 1 1 5 6 3 9 4 9 5 7 0 9 5 6 4 5 1 5 3 4 8\n",
      " 0 0 8 1 2 2 7 4 2 3 9 2 0 1 5 2 2 0 1 0 1 5 8 3 4 9 5 1 2 6 0 7 9 9 9 0 1\n",
      " 8 1 6 4 1 0 2 4 3 9 2 3 9 9 5 3 1 3 9 5 8 7 9 8 2 4 6 4 3 5 8 4 7 4 7 7 5\n",
      " 0 0 9 7 8 0 3 5 4 7 1 0 9 2 2 3 5 4 8 3 3 7 0 4 0 6 1 1 5 8 6 6 9 9 6 5 1\n",
      " 4 6 9 4 0 2 0 9 4 5 2 8 4 0 2 9 8 2 3 4 0 5 4 5 6 1 6 3 6 4 4 2 6 1 7 7 6\n",
      " 7 6 8 7 7 5 3 2 0 3 1 6 8 7 8 2 0 5 5 0 4 8 1 6 2 4 0 6 2 2 8 7 2 8]\n",
      "[  2  13  15  27  40  44  63  74  75  86  91  93 104 109 116 148 149 153\n",
      " 159 170 172 189 191 198 205 230 238 241 248 232  50  33   7  51 229 231\n",
      " 212 247 156  25 227  43 240  18  36 217 222  80 224 201 123 200  26]\n"
     ]
    }
   ],
   "source": [
    "print(labels)\n",
    "print(idx)"
   ]
  },
  {
   "cell_type": "code",
   "execution_count": 96,
   "metadata": {},
   "outputs": [],
   "source": [
    "import numpy as np\n",
    "idx_a = idx.numpy()\n",
    "np.random.shuffle(idx_a)"
   ]
  },
  {
   "cell_type": "code",
   "execution_count": 97,
   "metadata": {},
   "outputs": [
    {
     "name": "stdout",
     "output_type": "stream",
     "text": [
      "[6 4]\n"
     ]
    }
   ],
   "source": [
    "print(idx_a)"
   ]
  },
  {
   "cell_type": "code",
   "execution_count": 82,
   "metadata": {},
   "outputs": [
    {
     "name": "stdout",
     "output_type": "stream",
     "text": [
      "1\n",
      "tensor([3])\n"
     ]
    }
   ],
   "source": [
    "sub_idx = len(idx)//3\n",
    "print(sub_idx)\n",
    "sub_idx = torch.randperm(len(idx))[:sub_idx]\n",
    "print(labels[sub_idx])"
   ]
  },
  {
   "cell_type": "code",
   "execution_count": 83,
   "metadata": {},
   "outputs": [
    {
     "name": "stdout",
     "output_type": "stream",
     "text": [
      "1\n",
      "tensor([7])\n"
     ]
    }
   ],
   "source": [
    "idx_2 = ((labels == 2).nonzero(as_tuple=True)[0])\n",
    "sub_idx_2 = len(idx_2)//2\n",
    "print(sub_idx_2)\n",
    "sub_idx_2 = torch.randperm(len(idx_2))[:sub_idx_2]\n",
    "print(labels[sub_idx_2])"
   ]
  },
  {
   "cell_type": "code",
   "execution_count": 84,
   "metadata": {},
   "outputs": [
    {
     "name": "stdout",
     "output_type": "stream",
     "text": [
      "tensor([1]) tensor([0])\n"
     ]
    }
   ],
   "source": [
    "print(sub_idx,sub_idx_2)"
   ]
  },
  {
   "cell_type": "code",
   "execution_count": 87,
   "metadata": {},
   "outputs": [
    {
     "data": {
      "text/plain": [
       "tensor([1, 0])"
      ]
     },
     "execution_count": 87,
     "metadata": {},
     "output_type": "execute_result"
    }
   ],
   "source": [
    "torch.cat([sub_idx,sub_idx_2])"
   ]
  },
  {
   "cell_type": "code",
   "execution_count": 155,
   "metadata": {},
   "outputs": [
    {
     "data": {
      "text/plain": [
       "tensor([[7],\n",
       "        [1],\n",
       "        [6],\n",
       "        [4],\n",
       "        [7],\n",
       "        [8],\n",
       "        [2],\n",
       "        [0],\n",
       "        [0],\n",
       "        [9],\n",
       "        [6],\n",
       "        [4],\n",
       "        [1],\n",
       "        [7],\n",
       "        [2],\n",
       "        [2],\n",
       "        [8],\n",
       "        [7],\n",
       "        [1],\n",
       "        [1],\n",
       "        [9],\n",
       "        [2],\n",
       "        [4],\n",
       "        [2],\n",
       "        [6],\n",
       "        [1],\n",
       "        [2],\n",
       "        [7],\n",
       "        [5],\n",
       "        [0],\n",
       "        [6],\n",
       "        [1],\n",
       "        [2],\n",
       "        [3],\n",
       "        [8],\n",
       "        [9],\n",
       "        [0],\n",
       "        [2],\n",
       "        [3],\n",
       "        [4],\n",
       "        [6],\n",
       "        [9],\n",
       "        [5],\n",
       "        [0],\n",
       "        [9],\n",
       "        [0],\n",
       "        [3],\n",
       "        [9],\n",
       "        [6],\n",
       "        [2],\n",
       "        [7],\n",
       "        [5],\n",
       "        [2],\n",
       "        [5],\n",
       "        [0],\n",
       "        [1],\n",
       "        [7],\n",
       "        [3],\n",
       "        [7],\n",
       "        [2],\n",
       "        [0],\n",
       "        [3],\n",
       "        [0],\n",
       "        [4],\n",
       "        [6],\n",
       "        [4],\n",
       "        [3],\n",
       "        [6],\n",
       "        [7],\n",
       "        [0],\n",
       "        [8],\n",
       "        [8],\n",
       "        [4],\n",
       "        [2],\n",
       "        [7],\n",
       "        [7],\n",
       "        [1],\n",
       "        [9],\n",
       "        [8],\n",
       "        [2],\n",
       "        [4],\n",
       "        [3],\n",
       "        [5],\n",
       "        [0],\n",
       "        [5],\n",
       "        [4],\n",
       "        [0],\n",
       "        [2],\n",
       "        [7],\n",
       "        [5],\n",
       "        [9],\n",
       "        [4],\n",
       "        [3],\n",
       "        [1],\n",
       "        [2],\n",
       "        [6],\n",
       "        [4],\n",
       "        [5],\n",
       "        [8],\n",
       "        [1],\n",
       "        [1],\n",
       "        [6],\n",
       "        [2],\n",
       "        [7],\n",
       "        [5],\n",
       "        [2],\n",
       "        [3],\n",
       "        [6],\n",
       "        [8],\n",
       "        [0],\n",
       "        [5],\n",
       "        [3],\n",
       "        [0],\n",
       "        [1],\n",
       "        [0],\n",
       "        [9],\n",
       "        [7],\n",
       "        [7],\n",
       "        [7],\n",
       "        [3],\n",
       "        [0],\n",
       "        [8],\n",
       "        [0],\n",
       "        [1],\n",
       "        [2],\n",
       "        [6],\n",
       "        [2],\n",
       "        [6],\n",
       "        [3],\n",
       "        [5],\n",
       "        [2],\n",
       "        [2],\n",
       "        [0],\n",
       "        [8],\n",
       "        [8],\n",
       "        [0],\n",
       "        [1],\n",
       "        [2],\n",
       "        [2],\n",
       "        [3],\n",
       "        [1],\n",
       "        [1],\n",
       "        [9],\n",
       "        [4],\n",
       "        [2],\n",
       "        [1],\n",
       "        [2],\n",
       "        [0],\n",
       "        [7],\n",
       "        [3],\n",
       "        [0],\n",
       "        [2],\n",
       "        [5],\n",
       "        [4],\n",
       "        [5],\n",
       "        [6],\n",
       "        [4],\n",
       "        [5],\n",
       "        [6],\n",
       "        [5],\n",
       "        [3],\n",
       "        [9],\n",
       "        [6],\n",
       "        [8],\n",
       "        [8],\n",
       "        [3],\n",
       "        [2],\n",
       "        [8],\n",
       "        [1],\n",
       "        [6],\n",
       "        [7],\n",
       "        [9],\n",
       "        [6],\n",
       "        [9],\n",
       "        [2],\n",
       "        [0],\n",
       "        [3],\n",
       "        [7],\n",
       "        [9],\n",
       "        [0],\n",
       "        [9],\n",
       "        [7],\n",
       "        [8],\n",
       "        [0],\n",
       "        [2],\n",
       "        [0],\n",
       "        [9],\n",
       "        [7],\n",
       "        [2],\n",
       "        [1],\n",
       "        [8],\n",
       "        [4],\n",
       "        [5],\n",
       "        [5],\n",
       "        [9],\n",
       "        [5],\n",
       "        [6],\n",
       "        [7],\n",
       "        [8],\n",
       "        [3],\n",
       "        [7],\n",
       "        [7],\n",
       "        [5],\n",
       "        [1],\n",
       "        [0],\n",
       "        [8],\n",
       "        [0],\n",
       "        [5],\n",
       "        [9],\n",
       "        [1],\n",
       "        [2],\n",
       "        [4],\n",
       "        [8],\n",
       "        [6],\n",
       "        [2],\n",
       "        [3],\n",
       "        [4],\n",
       "        [0],\n",
       "        [9],\n",
       "        [6],\n",
       "        [5],\n",
       "        [4],\n",
       "        [5],\n",
       "        [6],\n",
       "        [3],\n",
       "        [4],\n",
       "        [4],\n",
       "        [6],\n",
       "        [4],\n",
       "        [4],\n",
       "        [3],\n",
       "        [3],\n",
       "        [8],\n",
       "        [5],\n",
       "        [8],\n",
       "        [0],\n",
       "        [5],\n",
       "        [1],\n",
       "        [4],\n",
       "        [1],\n",
       "        [8],\n",
       "        [1],\n",
       "        [2],\n",
       "        [8],\n",
       "        [2],\n",
       "        [8],\n",
       "        [5],\n",
       "        [3],\n",
       "        [9],\n",
       "        [0],\n",
       "        [1],\n",
       "        [6],\n",
       "        [4],\n",
       "        [3],\n",
       "        [5],\n",
       "        [8]])"
      ]
     },
     "execution_count": 155,
     "metadata": {},
     "output_type": "execute_result"
    }
   ],
   "source": [
    "target = torch.randint(10, (256, ))\n",
    "target.view(-1,1)"
   ]
  },
  {
   "cell_type": "code",
   "execution_count": null,
   "metadata": {},
   "outputs": [],
   "source": []
  }
 ],
 "metadata": {
  "kernelspec": {
   "display_name": "Python 3 (ipykernel)",
   "language": "python",
   "name": "python3"
  },
  "language_info": {
   "codemirror_mode": {
    "name": "ipython",
    "version": 3
   },
   "file_extension": ".py",
   "mimetype": "text/x-python",
   "name": "python",
   "nbconvert_exporter": "python",
   "pygments_lexer": "ipython3",
   "version": "3.8.13"
  }
 },
 "nbformat": 4,
 "nbformat_minor": 4
}
